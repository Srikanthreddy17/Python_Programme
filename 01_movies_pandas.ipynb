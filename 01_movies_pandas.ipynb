{
 "cells": [
  {
   "cell_type": "code",
   "execution_count": null,
   "id": "472a6de5",
   "metadata": {},
   "outputs": [],
   "source": [
    "import pandas as pd\n",
    "import numpy as np"
   ]
  },
  {
   "cell_type": "code",
   "execution_count": null,
   "id": "deb39eeb",
   "metadata": {},
   "outputs": [],
   "source": [
    "pd.read_csv('movies.csv')"
   ]
  },
  {
   "cell_type": "code",
   "execution_count": null,
   "id": "db332939",
   "metadata": {},
   "outputs": [],
   "source": [
    "pd.read_csv(\"movies.csv\", index_col=\"Title\")"
   ]
  },
  {
   "cell_type": "code",
   "execution_count": null,
   "id": "da534fd6",
   "metadata": {},
   "outputs": [],
   "source": [
    "movies = pd.read_csv('movies.csv') \n",
    "# Assuming 'movies.csv' is the file containing the dataset"
   ]
  },
  {
   "cell_type": "code",
   "execution_count": null,
   "id": "32b87bb0",
   "metadata": {},
   "outputs": [],
   "source": [
    "type(movies) #check the type of the object"
   ]
  },
  {
   "cell_type": "code",
   "execution_count": null,
   "id": "1190d87a",
   "metadata": {},
   "outputs": [],
   "source": [
    "movies.head() #display the first few rows of the DataFrame"
   ]
  },
  {
   "cell_type": "code",
   "execution_count": null,
   "id": "7f4f51ad",
   "metadata": {},
   "outputs": [],
   "source": [
    "movies.tail() #display the last few rows of the DataFrame"
   ]
  },
  {
   "cell_type": "code",
   "execution_count": null,
   "id": "907e5ebf",
   "metadata": {},
   "outputs": [],
   "source": [
    "len(movies) #number of rows in the DataFrame"
   ]
  },
  {
   "cell_type": "code",
   "execution_count": null,
   "id": "b537f66b",
   "metadata": {},
   "outputs": [],
   "source": [
    "movies.shape #shape of the DataFrame (rows, columns)"
   ]
  },
  {
   "cell_type": "code",
   "execution_count": null,
   "id": "96c1146b",
   "metadata": {},
   "outputs": [],
   "source": [
    "movies.size #number of elements in the DataFrame (rows * columns)"
   ]
  },
  {
   "cell_type": "code",
   "execution_count": null,
   "id": "4f0047fb",
   "metadata": {},
   "outputs": [],
   "source": [
    "movies.dtypes #data types of each column in the DataFrame"
   ]
  },
  {
   "cell_type": "code",
   "execution_count": null,
   "id": "2e7256ae",
   "metadata": {},
   "outputs": [],
   "source": [
    "movies.iloc[177] #access a specific row by index"
   ]
  },
  {
   "cell_type": "code",
   "execution_count": null,
   "id": "6a9b5afb",
   "metadata": {},
   "outputs": [],
   "source": [
    "movies.loc[\"Yogi Bear\"]\n",
    "#access a specific row by label (assuming 'Yogi Bear' is a valid index label)"
   ]
  },
  {
   "cell_type": "code",
   "execution_count": null,
   "id": "3e3c6956",
   "metadata": {},
   "outputs": [],
   "source": [
    "movies.loc[\"101 Dalmatians\"] \n",
    "#access a specific row by label (assuming '101 Dalmatians' is a valid index label)"
   ]
  },
  {
   "cell_type": "code",
   "execution_count": null,
   "id": "daff2a90",
   "metadata": {},
   "outputs": [],
   "source": [
    "movies.sort_values(by =\"Year\", ascending = False).head()\n",
    "#sort the DataFrame by the 'year' column in descending order and display the first few"
   ]
  },
  {
   "cell_type": "code",
   "execution_count": null,
   "id": "b0752215",
   "metadata": {},
   "outputs": [],
   "source": [
    "movies.sort_values(by=[\"Studio\", \"Year\"], ascending=[True, False]).head(20)\n",
    "#sort the DataFrame by 'studio' in ascending order and 'year' in descending order"
   ]
  },
  {
   "cell_type": "code",
   "execution_count": null,
   "id": "a0e601ff",
   "metadata": {},
   "outputs": [],
   "source": [
    "movies.sort_index().head(7)\n",
    "#sort the DataFrame by its index and display the first 15 rows"
   ]
  },
  {
   "cell_type": "code",
   "execution_count": null,
   "id": "0a0a2bcf",
   "metadata": {},
   "outputs": [],
   "source": [
    "movies[\"Studio\"] #access a specific column by name"
   ]
  },
  {
   "cell_type": "code",
   "execution_count": null,
   "id": "598c7604",
   "metadata": {},
   "outputs": [],
   "source": [
    "movies[\"Studio\"].value_counts()\n",
    "#count occurrences of each unique value in the 'studio' column"
   ]
  },
  {
   "cell_type": "code",
   "execution_count": null,
   "id": "e030f2d6",
   "metadata": {},
   "outputs": [],
   "source": [
    "movies[\"Studio\"] == \"Fox\" #create a boolean mask where 'studio' is 'Fox'"
   ]
  },
  {
   "cell_type": "code",
   "execution_count": null,
   "id": "944f0d19",
   "metadata": {},
   "outputs": [],
   "source": [
    "movies[movies[\"Studio\"] == \"MGM\"] #filter the DataFrame for rows where 'studio' is 'MGM'"
   ]
  },
  {
   "cell_type": "code",
   "execution_count": null,
   "id": "aeb69616",
   "metadata": {},
   "outputs": [],
   "source": [
    "released_by_universal = (movies[\"Studio\"] == \"Universal\")\n",
    "movies[released_by_universal] #filter the DataFrame using the boolean mask"
   ]
  },
  {
   "cell_type": "code",
   "execution_count": null,
   "id": "be7fd31a",
   "metadata": {},
   "outputs": [],
   "source": [
    "released_in_2016 = movies[\"Year\"] == 2016\n",
    "released_by_warner_bros = movies[\"Studio\"] == \"Warner Bros.\"\n",
    "movies[released_in_2016 & released_by_warner_bros] #filter for movies released in 2016 by Warner Bros."
   ]
  },
  {
   "cell_type": "code",
   "execution_count": null,
   "id": "fad70d7b",
   "metadata": {},
   "outputs": [],
   "source": [
    "released_in_2016 = movies[\"Year\"] == 2016\n",
    "released_by_warner_bros = movies[\"Studio\"] == \"Warner Bros.\"\n",
    "movies[released_in_2016 | released_by_warner_bros] \n",
    "#filter for movies released in 2016 or by Warner Bros."
   ]
  },
  {
   "cell_type": "code",
   "execution_count": null,
   "id": "9303601b",
   "metadata": {},
   "outputs": [],
   "source": [
    "before_1975 = movies[\"Year\"] < 1975\n",
    "movies[before_1975] #filter for movies released before the year 1975"
   ]
  },
  {
   "cell_type": "code",
   "execution_count": null,
   "id": "df072ae2",
   "metadata": {},
   "outputs": [],
   "source": [
    "mid_80s = (movies[\"Year\"] >= 1983) & (movies[\"Year\"] <= 1987)\n",
    "movies[mid_80s] #filter for movies released between 1983 and 1987"
   ]
  },
  {
   "cell_type": "code",
   "execution_count": null,
   "id": "aea45abc",
   "metadata": {},
   "outputs": [],
   "source": [
    "mid_80s = movies[\"Year\"].between(1983, 1987)\n",
    "movies[mid_80s] #filter for movies released between 1983 and 1987"
   ]
  },
  {
   "cell_type": "code",
   "execution_count": null,
   "id": "5e350fd0",
   "metadata": {},
   "outputs": [],
   "source": [
    "has_dark_in_title = movies.index.str.lower().str.contains(\"Dark\")\n",
    "movies[has_dark_in_title] #filter for movies with 'Dark' in the title"
   ]
  },
  {
   "cell_type": "code",
   "execution_count": null,
   "id": "03cd4cd1",
   "metadata": {},
   "outputs": [],
   "source": [
    "movies[\"Gross\"] #access the 'Gross' column"
   ]
  },
  {
   "cell_type": "code",
   "execution_count": null,
   "id": "96a56c6b",
   "metadata": {},
   "outputs": [],
   "source": [
    "movies[\"Gross\"].str.replace(\"$\", \"\", regex=False).str.replace(\",\", \"\", regex=False).astype(float)"
   ]
  },
  {
   "cell_type": "code",
   "execution_count": null,
   "id": "81e7889e",
   "metadata": {},
   "outputs": [],
   "source": [
    "(\n",
    "    movies[\"Gross\"]\n",
    "    .str.replace(\"$\", \"\", regex=False)\n",
    "    .str.replace(\",\", \"\", regex=False)\n",
    "    .astype(float)\n",
    ")"
   ]
  },
  {
   "cell_type": "code",
   "execution_count": null,
   "id": "626ce845",
   "metadata": {},
   "outputs": [],
   "source": [
    "print(movies[\"Gross\"].dtype) #check the data type of the 'Gross' column"
   ]
  },
  {
   "cell_type": "code",
   "execution_count": null,
   "id": "d8c65dd1",
   "metadata": {},
   "outputs": [],
   "source": []
  },
  {
   "cell_type": "code",
   "execution_count": null,
   "id": "1b1bea73",
   "metadata": {},
   "outputs": [],
   "source": [
    "studios[\"Gross\"].count().head() #count non-null entries in the 'Gross' column"
   ]
  },
  {
   "cell_type": "code",
   "execution_count": null,
   "id": "443f88ff",
   "metadata": {},
   "outputs": [],
   "source": [
    "studios[\"Gross\"].sum().sort_values(ascending = False).head() #sum of 'Gross' for each studio"
   ]
  }
 ],
 "metadata": {
  "kernelspec": {
   "display_name": "venv",
   "language": "python",
   "name": "python3"
  },
  "language_info": {
   "codemirror_mode": {
    "name": "ipython",
    "version": 3
   },
   "file_extension": ".py",
   "mimetype": "text/x-python",
   "name": "python",
   "nbconvert_exporter": "python",
   "pygments_lexer": "ipython3",
   "version": "3.13.5"
  }
 },
 "nbformat": 4,
 "nbformat_minor": 5
}
