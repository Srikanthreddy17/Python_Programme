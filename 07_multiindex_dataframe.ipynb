{
 "cells": [
  {
   "cell_type": "markdown",
   "id": "9bb85adb",
   "metadata": {},
   "source": [
    "## MultiIndex DataFrame"
   ]
  },
  {
   "cell_type": "code",
   "execution_count": 1,
   "id": "8223a329",
   "metadata": {},
   "outputs": [],
   "source": [
    "import numpy as np\n",
    "import pandas as pd"
   ]
  },
  {
   "cell_type": "code",
   "execution_count": 2,
   "id": "3937178e",
   "metadata": {},
   "outputs": [],
   "source": [
    "address = [\n",
    "    (\"101 Hanumanpet\",\"Hyderabad\",\"TS\", \"500047\"),\n",
    "    (\"102 Marredpally\", \"Secunderabad\", \"TS\", \"500026\"),\n",
    "    (\"103 Musheerabad\", \"Hyderabad\", \"TS\", \"500020\")\n",
    "]"
   ]
  },
  {
   "cell_type": "code",
   "execution_count": 3,
   "id": "a06ced75",
   "metadata": {},
   "outputs": [
    {
     "data": {
      "text/plain": [
       "MultiIndex([( '101 Hanumanpet',    'Hyderabad', 'TS', '500047'),\n",
       "            ('102 Marredpally', 'Secunderabad', 'TS', '500026'),\n",
       "            ('103 Musheerabad',    'Hyderabad', 'TS', '500020')],\n",
       "           )"
      ]
     },
     "execution_count": 3,
     "metadata": {},
     "output_type": "execute_result"
    }
   ],
   "source": [
    "pd.MultiIndex.from_tuples(address)\n",
    "pd.MultiIndex.from_tuples(tuples=address)"
   ]
  },
  {
   "cell_type": "code",
   "execution_count": 6,
   "id": "8e17ac21",
   "metadata": {},
   "outputs": [],
   "source": [
    "row_index = pd.MultiIndex.from_tuples(tuples=address, names=[\"Street\", \"City\", \"State\", \"Pincode\"])"
   ]
  },
  {
   "cell_type": "code",
   "execution_count": 8,
   "id": "cc28e491",
   "metadata": {},
   "outputs": [],
   "source": [
    "data = [\n",
    "    [\"A\", \"B\"],\n",
    "    [\"C\", \"D\"],\n",
    "    [\"E\", \"F\"]\n",
    "]"
   ]
  },
  {
   "cell_type": "code",
   "execution_count": 9,
   "id": "17480977",
   "metadata": {},
   "outputs": [
    {
     "data": {
      "text/html": [
       "<div>\n",
       "<style scoped>\n",
       "    .dataframe tbody tr th:only-of-type {\n",
       "        vertical-align: middle;\n",
       "    }\n",
       "\n",
       "    .dataframe tbody tr th {\n",
       "        vertical-align: top;\n",
       "    }\n",
       "\n",
       "    .dataframe thead th {\n",
       "        text-align: right;\n",
       "    }\n",
       "</style>\n",
       "<table border=\"1\" class=\"dataframe\">\n",
       "  <thead>\n",
       "    <tr style=\"text-align: right;\">\n",
       "      <th></th>\n",
       "      <th></th>\n",
       "      <th></th>\n",
       "      <th></th>\n",
       "      <th>0</th>\n",
       "      <th>1</th>\n",
       "    </tr>\n",
       "    <tr>\n",
       "      <th>Street</th>\n",
       "      <th>City</th>\n",
       "      <th>State</th>\n",
       "      <th>Pincode</th>\n",
       "      <th></th>\n",
       "      <th></th>\n",
       "    </tr>\n",
       "  </thead>\n",
       "  <tbody>\n",
       "    <tr>\n",
       "      <th>101 Hanumanpet</th>\n",
       "      <th>Hyderabad</th>\n",
       "      <th>TS</th>\n",
       "      <th>500047</th>\n",
       "      <td>A</td>\n",
       "      <td>B</td>\n",
       "    </tr>\n",
       "    <tr>\n",
       "      <th>102 Marredpally</th>\n",
       "      <th>Secunderabad</th>\n",
       "      <th>TS</th>\n",
       "      <th>500026</th>\n",
       "      <td>C</td>\n",
       "      <td>D</td>\n",
       "    </tr>\n",
       "    <tr>\n",
       "      <th>103 Musheerabad</th>\n",
       "      <th>Hyderabad</th>\n",
       "      <th>TS</th>\n",
       "      <th>500020</th>\n",
       "      <td>E</td>\n",
       "      <td>F</td>\n",
       "    </tr>\n",
       "  </tbody>\n",
       "</table>\n",
       "</div>"
      ],
      "text/plain": [
       "                                            0  1\n",
       "Street          City         State Pincode      \n",
       "101 Hanumanpet  Hyderabad    TS    500047   A  B\n",
       "102 Marredpally Secunderabad TS    500026   C  D\n",
       "103 Musheerabad Hyderabad    TS    500020   E  F"
      ]
     },
     "execution_count": 9,
     "metadata": {},
     "output_type": "execute_result"
    }
   ],
   "source": [
    "pd.DataFrame(data=data, index=row_index)"
   ]
  },
  {
   "cell_type": "code",
   "execution_count": 10,
   "id": "6c18960c",
   "metadata": {},
   "outputs": [],
   "source": [
    "columns = [\"Schools\", \"Cost of Living\"]"
   ]
  },
  {
   "cell_type": "code",
   "execution_count": 12,
   "id": "055aa944",
   "metadata": {},
   "outputs": [
    {
     "data": {
      "text/html": [
       "<div>\n",
       "<style scoped>\n",
       "    .dataframe tbody tr th:only-of-type {\n",
       "        vertical-align: middle;\n",
       "    }\n",
       "\n",
       "    .dataframe tbody tr th {\n",
       "        vertical-align: top;\n",
       "    }\n",
       "\n",
       "    .dataframe thead th {\n",
       "        text-align: right;\n",
       "    }\n",
       "</style>\n",
       "<table border=\"1\" class=\"dataframe\">\n",
       "  <thead>\n",
       "    <tr style=\"text-align: right;\">\n",
       "      <th></th>\n",
       "      <th></th>\n",
       "      <th></th>\n",
       "      <th></th>\n",
       "      <th>Schools</th>\n",
       "      <th>Cost of Living</th>\n",
       "    </tr>\n",
       "    <tr>\n",
       "      <th>Street</th>\n",
       "      <th>City</th>\n",
       "      <th>State</th>\n",
       "      <th>Pincode</th>\n",
       "      <th></th>\n",
       "      <th></th>\n",
       "    </tr>\n",
       "  </thead>\n",
       "  <tbody>\n",
       "    <tr>\n",
       "      <th>101 Hanumanpet</th>\n",
       "      <th>Hyderabad</th>\n",
       "      <th>TS</th>\n",
       "      <th>500047</th>\n",
       "      <td>A</td>\n",
       "      <td>B</td>\n",
       "    </tr>\n",
       "    <tr>\n",
       "      <th>102 Marredpally</th>\n",
       "      <th>Secunderabad</th>\n",
       "      <th>TS</th>\n",
       "      <th>500026</th>\n",
       "      <td>C</td>\n",
       "      <td>D</td>\n",
       "    </tr>\n",
       "    <tr>\n",
       "      <th>103 Musheerabad</th>\n",
       "      <th>Hyderabad</th>\n",
       "      <th>TS</th>\n",
       "      <th>500020</th>\n",
       "      <td>E</td>\n",
       "      <td>F</td>\n",
       "    </tr>\n",
       "  </tbody>\n",
       "</table>\n",
       "</div>"
      ],
      "text/plain": [
       "                                           Schools Cost of Living\n",
       "Street          City         State Pincode                       \n",
       "101 Hanumanpet  Hyderabad    TS    500047        A              B\n",
       "102 Marredpally Secunderabad TS    500026        C              D\n",
       "103 Musheerabad Hyderabad    TS    500020        E              F"
      ]
     },
     "execution_count": 12,
     "metadata": {},
     "output_type": "execute_result"
    }
   ],
   "source": [
    "area_grades=pd.DataFrame(\n",
    "    data = data,\n",
    "    index = row_index,\n",
    "    columns = columns\n",
    ")\n",
    "area_grades"
   ]
  },
  {
   "cell_type": "code",
   "execution_count": null,
   "id": "06d3fc1e",
   "metadata": {},
   "outputs": [],
   "source": [
    "data = [\n",
    "    [\"A\", \"C\", \"B\", \"D\"],\n",
    "    [\"E\", \"G\", \"H\", \"F\"],\n",
    "    [\"J\", \"L\", \"I\", \"K\"]\n",
    "]"
   ]
  },
  {
   "cell_type": "code",
   "execution_count": 14,
   "id": "902c1eb7",
   "metadata": {},
   "outputs": [],
   "source": [
    "column_index = pd.MultiIndex.from_tuples([\n",
    "    ('Culture', 'Restaurants'),\n",
    "    ('Culture', 'Museums'),\n",
    "    ('Services', 'Police'),\n",
    "    ('Services', 'Schools')\n",
    "])"
   ]
  },
  {
   "cell_type": "code",
   "execution_count": 15,
   "id": "890f7328",
   "metadata": {},
   "outputs": [
    {
     "data": {
      "text/html": [
       "<div>\n",
       "<style scoped>\n",
       "    .dataframe tbody tr th:only-of-type {\n",
       "        vertical-align: middle;\n",
       "    }\n",
       "\n",
       "    .dataframe tbody tr th {\n",
       "        vertical-align: top;\n",
       "    }\n",
       "\n",
       "    .dataframe thead tr th {\n",
       "        text-align: left;\n",
       "    }\n",
       "\n",
       "    .dataframe thead tr:last-of-type th {\n",
       "        text-align: right;\n",
       "    }\n",
       "</style>\n",
       "<table border=\"1\" class=\"dataframe\">\n",
       "  <thead>\n",
       "    <tr>\n",
       "      <th></th>\n",
       "      <th></th>\n",
       "      <th></th>\n",
       "      <th></th>\n",
       "      <th colspan=\"2\" halign=\"left\">Culture</th>\n",
       "      <th colspan=\"2\" halign=\"left\">Services</th>\n",
       "    </tr>\n",
       "    <tr>\n",
       "      <th></th>\n",
       "      <th></th>\n",
       "      <th></th>\n",
       "      <th></th>\n",
       "      <th>Restaurants</th>\n",
       "      <th>Museums</th>\n",
       "      <th>Police</th>\n",
       "      <th>Schools</th>\n",
       "    </tr>\n",
       "    <tr>\n",
       "      <th>Street</th>\n",
       "      <th>City</th>\n",
       "      <th>State</th>\n",
       "      <th>Pincode</th>\n",
       "      <th></th>\n",
       "      <th></th>\n",
       "      <th></th>\n",
       "      <th></th>\n",
       "    </tr>\n",
       "  </thead>\n",
       "  <tbody>\n",
       "    <tr>\n",
       "      <th>101 Hanumanpet</th>\n",
       "      <th>Hyderabad</th>\n",
       "      <th>TS</th>\n",
       "      <th>500047</th>\n",
       "      <td>A</td>\n",
       "      <td>C</td>\n",
       "      <td>B</td>\n",
       "      <td>D</td>\n",
       "    </tr>\n",
       "    <tr>\n",
       "      <th>102 Marredpally</th>\n",
       "      <th>Secunderabad</th>\n",
       "      <th>TS</th>\n",
       "      <th>500026</th>\n",
       "      <td>E</td>\n",
       "      <td>G</td>\n",
       "      <td>H</td>\n",
       "      <td>F</td>\n",
       "    </tr>\n",
       "    <tr>\n",
       "      <th>103 Musheerabad</th>\n",
       "      <th>Hyderabad</th>\n",
       "      <th>TS</th>\n",
       "      <th>500020</th>\n",
       "      <td>J</td>\n",
       "      <td>L</td>\n",
       "      <td>I</td>\n",
       "      <td>K</td>\n",
       "    </tr>\n",
       "  </tbody>\n",
       "</table>\n",
       "</div>"
      ],
      "text/plain": [
       "                                               Culture         Services  \\\n",
       "                                           Restaurants Museums   Police   \n",
       "Street          City         State Pincode                                \n",
       "101 Hanumanpet  Hyderabad    TS    500047            A       C        B   \n",
       "102 Marredpally Secunderabad TS    500026            E       G        H   \n",
       "103 Musheerabad Hyderabad    TS    500020            J       L        I   \n",
       "\n",
       "                                                    \n",
       "                                           Schools  \n",
       "Street          City         State Pincode          \n",
       "101 Hanumanpet  Hyderabad    TS    500047        D  \n",
       "102 Marredpally Secunderabad TS    500026        F  \n",
       "103 Musheerabad Hyderabad    TS    500020        K  "
      ]
     },
     "execution_count": 15,
     "metadata": {},
     "output_type": "execute_result"
    }
   ],
   "source": [
    "area_grades = pd.DataFrame(\n",
    "    data = data,\n",
    "    index = row_index,\n",
    "    columns= column_index\n",
    ")\n",
    "area_grades"
   ]
  }
 ],
 "metadata": {
  "kernelspec": {
   "display_name": "venv",
   "language": "python",
   "name": "python3"
  },
  "language_info": {
   "codemirror_mode": {
    "name": "ipython",
    "version": 3
   },
   "file_extension": ".py",
   "mimetype": "text/x-python",
   "name": "python",
   "nbconvert_exporter": "python",
   "pygments_lexer": "ipython3",
   "version": "3.13.5"
  }
 },
 "nbformat": 4,
 "nbformat_minor": 5
}
